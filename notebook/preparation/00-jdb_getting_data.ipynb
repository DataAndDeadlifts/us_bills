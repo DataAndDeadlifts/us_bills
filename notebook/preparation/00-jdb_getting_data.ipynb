{
 "cells": [
  {
   "cell_type": "markdown",
   "id": "dc395220-4832-4614-b754-2923744e47dd",
   "metadata": {},
   "source": [
    "# Getting our data\n",
    "\n",
    "Our data is accessible through the govinfo API. Lets do some basic queries to get an idea how we can interact with the information we're interested in."
   ]
  },
  {
   "cell_type": "code",
   "execution_count": 10,
   "id": "d66f88a4-fb79-4bb5-a42f-00acc99c0936",
   "metadata": {},
   "outputs": [],
   "source": [
    "import sys\n",
    "sys.path.append(\"../../src\")\n",
    "import requests\n",
    "import pandas as pd\n",
    "from defusedxml.ElementTree import fromstring\n",
    "from IPython.core.display import display, HTML\n",
    "import os\n",
    "from bills import utils\n",
    "from datetime import datetime, timedelta\n",
    "\n",
    "context = utils.load_context()"
   ]
  },
  {
   "cell_type": "code",
   "execution_count": 30,
   "id": "b5e00aa3-b389-4663-b3e8-f8b1da556fb6",
   "metadata": {},
   "outputs": [
    {
     "data": {
      "text/plain": [
       "{'Date': 'Sun, 30 May 2021 15:17:16 GMT', 'Content-Type': 'application/xml', 'Content-Length': '393', 'Connection': 'keep-alive', 'Strict-Transport-Security': 'max-age=31536000; preload', 'X-Frame-Options': 'SAMEORIGIN', 'Via': '1.1 www.govinfo.gov', 'Vary': 'Accept-Encoding', 'Content-Encoding': 'gzip', 'X-Content-Type-Options': 'nosniff', 'X-Permitted-Cross-Domain-Policies': 'none', 'Content-Security-Policy': \"default-src 'self'  https://analytics.govinfo.gov https://stackpath.bootstrapcdn.com https://maxcdn.bootstrapcdn.com; script-src 'unsafe-inline' 'unsafe-eval' 'self'   https://stackpath.bootstrapcdn.com https://maxcdn.bootstrapcdn.com; object-src 'unsafe-inline' 'self' ; style-src 'unsafe-inline' 'self' https://maxcdn.bootstrapcdn.com   https://stackpath.bootstrapcdn.com https://fonts.googleapis.com; img-src 'unsafe-inline' 'self' http://insideanalytics.gpo.gov https://maxcdn.bootstrapcdn.com https://stackpath.bootstrapcdn.com  https://analytics.govinfo.gov data:; font-src 'unsafe-inline' 'self'  https://stackpath.bootstrapcdn.com  https://maxcdn.bootstrapcdn.com https://fonts.gstatic.com https://fonts.googleapis.com; connect-src 'self'; frame-src 'self'  https://stackpath.bootstrapcdn.com https://maxcdn.bootstrapcdn.com;\", 'CF-Cache-Status': 'DYNAMIC', 'cf-request-id': '0a5f72dc0f00003f60eb26f000000001', 'Expect-CT': 'max-age=604800, report-uri=\"https://report-uri.cloudflare.com/cdn-cgi/beacon/expect-ct\"', 'Server': 'cloudflare', 'CF-RAY': '6578eda678fd3f60-ORD'}"
      ]
     },
     "metadata": {},
     "output_type": "display_data"
    },
    {
     "data": {
      "text/html": [
       "<?xml version=\"1.0\" encoding=\"UTF-8\" standalone=\"yes\"?><data><files><file><displayLabel>sres</displayLabel><folder>true</folder><formattedLastModifiedTime>17-Apr-2021 08:57</formattedLastModifiedTime><fullFilePath>/BILLSTATUS/115/sres</fullFilePath><link>https://www.govinfo.gov/bulkdata/xml/BILLSTATUS/115/sres</link><name>sres</name></file><file><displayLabel>sconres</displayLabel><folder>true</folder><formattedLastModifiedTime>17-Apr-2021 08:52</formattedLastModifiedTime><fullFilePath>/BILLSTATUS/115/sconres</fullFilePath><link>https://www.govinfo.gov/bulkdata/xml/BILLSTATUS/115/sconres</link><name>sconres</name></file><file><displayLabel>sjres</displayLabel><folder>true</folder><formattedLastModifiedTime>07-May-2021 05:56</formattedLastModifiedTime><fullFilePath>/BILLSTATUS/115/sjres</fullFilePath><link>https://www.govinfo.gov/bulkdata/xml/BILLSTATUS/115/sjres</link><name>sjres</name></file><file><displayLabel>hres</displayLabel><folder>true</folder><formattedLastModifiedTime>18-May-2021 03:13</formattedLastModifiedTime><fullFilePath>/BILLSTATUS/115/hres</fullFilePath><link>https://www.govinfo.gov/bulkdata/xml/BILLSTATUS/115/hres</link><name>hres</name></file><file><displayLabel>s</displayLabel><folder>true</folder><formattedLastModifiedTime>19-May-2021 03:05</formattedLastModifiedTime><fullFilePath>/BILLSTATUS/115/s</fullFilePath><link>https://www.govinfo.gov/bulkdata/xml/BILLSTATUS/115/s</link><name>s</name></file><file><displayLabel>hconres</displayLabel><folder>true</folder><formattedLastModifiedTime>17-Apr-2021 03:47</formattedLastModifiedTime><fullFilePath>/BILLSTATUS/115/hconres</fullFilePath><link>https://www.govinfo.gov/bulkdata/xml/BILLSTATUS/115/hconres</link><name>hconres</name></file><file><displayLabel>hjres</displayLabel><folder>true</folder><formattedLastModifiedTime>07-May-2021 04:45</formattedLastModifiedTime><fullFilePath>/BILLSTATUS/115/hjres</fullFilePath><link>https://www.govinfo.gov/bulkdata/xml/BILLSTATUS/115/hjres</link><name>hjres</name></file><file><displayLabel>hr</displayLabel><folder>true</folder><formattedLastModifiedTime>27-May-2021 03:04</formattedLastModifiedTime><fullFilePath>/BILLSTATUS/115/hr</fullFilePath><link>https://www.govinfo.gov/bulkdata/xml/BILLSTATUS/115/hr</link><name>hr</name></file></files></data>"
      ],
      "text/plain": [
       "<IPython.core.display.HTML object>"
      ]
     },
     "metadata": {},
     "output_type": "display_data"
    }
   ],
   "source": [
    "bulk_content_response = requests.get(\n",
    "    \"https://www.govinfo.gov/bulkdata/xml/BILLSTATUS/115\", \n",
    "    headers={\n",
    "        \"Accept\": \"application/xml\"\n",
    "    }\n",
    ")\n",
    "display(bulk_content_response.headers)\n",
    "display(HTML(bulk_content_response.text))"
   ]
  },
  {
   "cell_type": "code",
   "execution_count": 31,
   "id": "842ce069-cc72-4742-9623-ee5d498dd070",
   "metadata": {},
   "outputs": [
    {
     "data": {
      "text/plain": [
       "<Element 'data' at 0x000001D482BBE4F0>"
      ]
     },
     "execution_count": 31,
     "metadata": {},
     "output_type": "execute_result"
    }
   ],
   "source": [
    "fromstring(bulk_content_response.text)"
   ]
  },
  {
   "cell_type": "code",
   "execution_count": null,
   "id": "9d80788f-be74-4c63-a651-8dedfb3df6c3",
   "metadata": {},
   "outputs": [],
   "source": []
  }
 ],
 "metadata": {
  "kernelspec": {
   "display_name": "Python 3",
   "language": "python",
   "name": "python3"
  },
  "language_info": {
   "codemirror_mode": {
    "name": "ipython",
    "version": 3
   },
   "file_extension": ".py",
   "mimetype": "text/x-python",
   "name": "python",
   "nbconvert_exporter": "python",
   "pygments_lexer": "ipython3",
   "version": "3.8.8"
  }
 },
 "nbformat": 4,
 "nbformat_minor": 5
}
